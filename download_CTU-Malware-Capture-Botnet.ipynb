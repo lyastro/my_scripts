{
 "nbformat": 4,
 "nbformat_minor": 2,
 "metadata": {
  "language_info": {
   "name": "python",
   "codemirror_mode": {
    "name": "ipython",
    "version": 3
   },
   "version": "3.7.4-final"
  },
  "orig_nbformat": 2,
  "file_extension": ".py",
  "mimetype": "text/x-python",
  "name": "python",
  "npconvert_exporter": "python",
  "pygments_lexer": "ipython3",
  "version": 3,
  "kernelspec": {
   "name": "python37464bitbasecondaf31966a86c1d4437993f466179d12690",
   "display_name": "Python 3.7.4 64-bit ('base': conda)"
  }
 },
 "cells": [
  {
   "cell_type": "code",
   "execution_count": 1,
   "metadata": {},
   "outputs": [],
   "source": [
    "import requests\n",
    "import re\n",
    "import os\n",
    "import sys"
   ]
  },
  {
   "cell_type": "code",
   "execution_count": 77,
   "metadata": {},
   "outputs": [],
   "source": [
    "url = \"https://mcfp.felk.cvut.cz/publicDatasets\""
   ]
  },
  {
   "cell_type": "code",
   "execution_count": 5,
   "metadata": {},
   "outputs": [],
   "source": [
    "content = requests.get(url, verify = False).text"
   ]
  },
  {
   "cell_type": "code",
   "execution_count": 98,
   "metadata": {},
   "outputs": [
    {
     "data": {
      "text/plain": "'<!DOCTYPE HTML PUBLIC \"-//W3C//DTD HTML 3.2 Final//EN\">\\n<html>\\n <head>\\n  <title>Index of /publicData'"
     },
     "execution_count": 98,
     "metadata": {},
     "output_type": "execute_result"
    }
   ],
   "source": [
    "content[:100]"
   ]
  },
  {
   "cell_type": "code",
   "execution_count": 55,
   "metadata": {},
   "outputs": [
    {
     "data": {
      "text/plain": "'c:\\\\0x02LY\\\\GitHub\\\\lyastro_my_scripts'"
     },
     "execution_count": 55,
     "metadata": {},
     "output_type": "execute_result"
    }
   ],
   "source": [
    "pwd"
   ]
  },
  {
   "cell_type": "code",
   "execution_count": 67,
   "metadata": {},
   "outputs": [],
   "source": [
    "path = \"./\""
   ]
  },
  {
   "cell_type": "code",
   "execution_count": null,
   "metadata": {},
   "outputs": [],
   "source": []
  },
  {
   "cell_type": "code",
   "execution_count": 64,
   "metadata": {},
   "outputs": [],
   "source": [
    "def get_dir(url, path, restr = 'href=\"(.*?)\"'):  # 文件夹处理逻辑\n",
    "    if \"<title>Index of\" in content:\n",
    "        sub_url = re.findall(restr, content)\n",
    "        # print(sub_url)\n",
    "        # print(len(sub_url))\n",
    "        for i in sub_url:\n",
    "            if \"/\" in i:\n",
    "                i = i.split(\"/\")[0]\n",
    "                print(i)\n",
    "                if i != \".\" and i != \"..\":\n",
    "                    # if not os.path.isdir(path + i):\n",
    "                    #     os.mkdir(path + i)\n",
    "                    get_dir(url + \"/\" + i, path + i + \"/\")\n",
    "                    print(\"url:\" + url + \"/\" + i + \"\\nurl_path:\" + path + i + \"/\")"
   ]
  },
  {
   "cell_type": "code",
   "execution_count": 78,
   "metadata": {},
   "outputs": [
    {
     "name": "stdout",
     "output_type": "stream",
     "text": "https://mcfp.felk.cvut.cz/publicDatasets\n"
    }
   ],
   "source": [
    "print(url)"
   ]
  },
  {
   "cell_type": "code",
   "execution_count": 96,
   "metadata": {},
   "outputs": [
    {
     "name": "stdout",
     "output_type": "stream",
     "text": "395\nCTU-Malware-Capture-Botnet-1\nURL    https://mcfp.felk.cvut.cz/publicDatasets/CTU-Malware-Capture-Botnet-1\n['?C=N;O=D', '?C=M;O=A', '?C=S;O=A', '?C=D;O=A', '/publicDatasets/', '39UvZmv.exe.zip', '2013-10-01_README', '2013-10-01_capture-win8.biargus', '2013-10-01_capture-win8.biargus.labeled', '2013-10-01_capture-win8.histogram', '2013-10-01_capture-win8.netflow', '2013-10-01_capture-win8.netflow.csv', '2013-10-01_capture-win8.pcap', '2013-10-01_capture-win8.rrd', '2013-10-01_capture-win8.weblog', '2013-10-01_capture-win8.weblogng', '2013-10-01_capture-win8.weblogng.labeled', '2013-10-01_capture-win12.3model', '2013-10-01_capture-win12.biargus', '2013-10-01_capture-win12.biargus.labeled', '2013-10-01_capture-win12.conn_summary.csv', '2013-10-01_capture-win12.histogram', '2013-10-01_capture-win12.html', '2013-10-01_capture-win12.json', '2013-10-01_capture-win12.netflow', '2013-10-01_capture-win12.netflow.csv', '2013-10-01_capture-win12.passivedns', '2013-10-01_capture-win12.pcap', '2013-10-01_capture-win12.rrd', '2013-10-01_capture-win12.weblog', '2013-10-01_capture-win12.weblogng', '2013-10-01_capture-win12.weblogng.labeled', 'R/', 'argus_bi.conf', 'bro/', 'ra.conf.analysis', 'ra.conf.publish', 'ralabel-flowfilter-V1.conf', 'ralabel-flowfilter-V2.conf', 'ralabel.conf', 'weblabel-rules.conf']\nFILE:https://mcfp.felk.cvut.cz/publicDatasets/CTU-Malware-Capture-Botnet-1/39UvZmv.exe.zip\nFILE:https://mcfp.felk.cvut.cz/publicDatasets/CTU-Malware-Capture-Botnet-1/2013-10-01_README\nFILE:https://mcfp.felk.cvut.cz/publicDatasets/CTU-Malware-Capture-Botnet-1/2013-10-01_capture-win8.biargus\nFILE:https://mcfp.felk.cvut.cz/publicDatasets/CTU-Malware-Capture-Botnet-1/2013-10-01_capture-win8.biargus.labeled\nFILE:https://mcfp.felk.cvut.cz/publicDatasets/CTU-Malware-Capture-Botnet-1/2013-10-01_capture-win8.histogram\nFILE:https://mcfp.felk.cvut.cz/publicDatasets/CTU-Malware-Capture-Botnet-1/2013-10-01_capture-win8.netflow\nFILE:https://mcfp.felk.cvut.cz/publicDatasets/CTU-Malware-Capture-Botnet-1/2013-10-01_capture-win8.netflow.csv\nFILE:https://mcfp.felk.cvut.cz/publicDatasets/CTU-Malware-Capture-Botnet-1/2013-10-01_capture-win8.pcap\nFILE:https://mcfp.felk.cvut.cz/publicDatasets/CTU-Malware-Capture-Botnet-1/2013-10-01_capture-win8.rrd\nFILE:https://mcfp.felk.cvut.cz/publicDatasets/CTU-Malware-Capture-Botnet-1/2013-10-01_capture-win8.weblog\nFILE:https://mcfp.felk.cvut.cz/publicDatasets/CTU-Malware-Capture-Botnet-1/2013-10-01_capture-win8.weblogng\nFILE:https://mcfp.felk.cvut.cz/publicDatasets/CTU-Malware-Capture-Botnet-1/2013-10-01_capture-win8.weblogng.labeled\nFILE:https://mcfp.felk.cvut.cz/publicDatasets/CTU-Malware-Capture-Botnet-1/2013-10-01_capture-win12.3model\nFILE:https://mcfp.felk.cvut.cz/publicDatasets/CTU-Malware-Capture-Botnet-1/2013-10-01_capture-win12.biargus\nFILE:https://mcfp.felk.cvut.cz/publicDatasets/CTU-Malware-Capture-Botnet-1/2013-10-01_capture-win12.biargus.labeled\nFILE:https://mcfp.felk.cvut.cz/publicDatasets/CTU-Malware-Capture-Botnet-1/2013-10-01_capture-win12.conn_summary.csv\nFILE:https://mcfp.felk.cvut.cz/publicDatasets/CTU-Malware-Capture-Botnet-1/2013-10-01_capture-win12.histogram\nFILE:https://mcfp.felk.cvut.cz/publicDatasets/CTU-Malware-Capture-Botnet-1/2013-10-01_capture-win12.html\nFILE:https://mcfp.felk.cvut.cz/publicDatasets/CTU-Malware-Capture-Botnet-1/2013-10-01_capture-win12.json\nFILE:https://mcfp.felk.cvut.cz/publicDatasets/CTU-Malware-Capture-Botnet-1/2013-10-01_capture-win12.netflow\nFILE:https://mcfp.felk.cvut.cz/publicDatasets/CTU-Malware-Capture-Botnet-1/2013-10-01_capture-win12.netflow.csv\nFILE:https://mcfp.felk.cvut.cz/publicDatasets/CTU-Malware-Capture-Botnet-1/2013-10-01_capture-win12.passivedns\nFILE:https://mcfp.felk.cvut.cz/publicDatasets/CTU-Malware-Capture-Botnet-1/2013-10-01_capture-win12.pcap\nFILE:https://mcfp.felk.cvut.cz/publicDatasets/CTU-Malware-Capture-Botnet-1/2013-10-01_capture-win12.rrd\nFILE:https://mcfp.felk.cvut.cz/publicDatasets/CTU-Malware-Capture-Botnet-1/2013-10-01_capture-win12.weblog\nFILE:https://mcfp.felk.cvut.cz/publicDatasets/CTU-Malware-Capture-Botnet-1/2013-10-01_capture-win12.weblogng\nFILE:https://mcfp.felk.cvut.cz/publicDatasets/CTU-Malware-Capture-Botnet-1/2013-10-01_capture-win12.weblogng.labeled\nDIR:https://mcfp.felk.cvut.cz/publicDatasets/CTU-Malware-Capture-Botnet-1/R\nFILE:https://mcfp.felk.cvut.cz/publicDatasets/CTU-Malware-Capture-Botnet-1/argus_bi.conf\nDIR:https://mcfp.felk.cvut.cz/publicDatasets/CTU-Malware-Capture-Botnet-1/bro\nFILE:https://mcfp.felk.cvut.cz/publicDatasets/CTU-Malware-Capture-Botnet-1/ra.conf.analysis\nFILE:https://mcfp.felk.cvut.cz/publicDatasets/CTU-Malware-Capture-Botnet-1/ra.conf.publish\nFILE:https://mcfp.felk.cvut.cz/publicDatasets/CTU-Malware-Capture-Botnet-1/ralabel-flowfilter-V1.conf\nFILE:https://mcfp.felk.cvut.cz/publicDatasets/CTU-Malware-Capture-Botnet-1/ralabel-flowfilter-V2.conf\nFILE:https://mcfp.felk.cvut.cz/publicDatasets/CTU-Malware-Capture-Botnet-1/ralabel.conf\nFILE:https://mcfp.felk.cvut.cz/publicDatasets/CTU-Malware-Capture-Botnet-1/weblabel-rules.conf\n\n\n\nCTU-Malware-Capture-Botnet-2\nURL    https://mcfp.felk.cvut.cz/publicDatasets/CTU-Malware-Capture-Botnet-2\n['?C=N;O=D', '?C=M;O=A', '?C=S;O=A', '?C=D;O=A', '/publicDatasets/', '2013-08-20_README', '2013-08-20_capture-win2.biargus', '2013-08-20_capture-win2.clf', '2013-08-20_capture-win2.netflow', '2013-08-20_capture-win2.pcap', '2013-08-20_capture-win2.png', '2013-08-20_capture-win2.rrd', '2013-08-20_capture-win2.weblog', '2013-08-20_capture-win2.weblogng', '2013-08-20_capture-win2.weblogng.labeled', 'ZtaXE.exe.zip', 'argus_bi.conf', 'ra.conf.analysis', 'ra.conf.publish', 'ralabel.conf']\nFILE:https://mcfp.felk.cvut.cz/publicDatasets/CTU-Malware-Capture-Botnet-2/2013-08-20_README\nFILE:https://mcfp.felk.cvut.cz/publicDatasets/CTU-Malware-Capture-Botnet-2/2013-08-20_capture-win2.biargus\nFILE:https://mcfp.felk.cvut.cz/publicDatasets/CTU-Malware-Capture-Botnet-2/2013-08-20_capture-win2.clf\nFILE:https://mcfp.felk.cvut.cz/publicDatasets/CTU-Malware-Capture-Botnet-2/2013-08-20_capture-win2.netflow\nFILE:https://mcfp.felk.cvut.cz/publicDatasets/CTU-Malware-Capture-Botnet-2/2013-08-20_capture-win2.pcap\nFILE:https://mcfp.felk.cvut.cz/publicDatasets/CTU-Malware-Capture-Botnet-2/2013-08-20_capture-win2.png\nFILE:https://mcfp.felk.cvut.cz/publicDatasets/CTU-Malware-Capture-Botnet-2/2013-08-20_capture-win2.rrd\nFILE:https://mcfp.felk.cvut.cz/publicDatasets/CTU-Malware-Capture-Botnet-2/2013-08-20_capture-win2.weblog\nFILE:https://mcfp.felk.cvut.cz/publicDatasets/CTU-Malware-Capture-Botnet-2/2013-08-20_capture-win2.weblogng\nFILE:https://mcfp.felk.cvut.cz/publicDatasets/CTU-Malware-Capture-Botnet-2/2013-08-20_capture-win2.weblogng.labeled\nFILE:https://mcfp.felk.cvut.cz/publicDatasets/CTU-Malware-Capture-Botnet-2/ZtaXE.exe.zip\nFILE:https://mcfp.felk.cvut.cz/publicDatasets/CTU-Malware-Capture-Botnet-2/argus_bi.conf\nFILE:https://mcfp.felk.cvut.cz/publicDatasets/CTU-Malware-Capture-Botnet-2/ra.conf.analysis\nFILE:https://mcfp.felk.cvut.cz/publicDatasets/CTU-Malware-Capture-Botnet-2/ra.conf.publish\nFILE:https://mcfp.felk.cvut.cz/publicDatasets/CTU-Malware-Capture-Botnet-2/ralabel.conf\n\n\n\nCTU-Malware-Capture-Botnet-3\nURL    https://mcfp.felk.cvut.cz/publicDatasets/CTU-Malware-Capture-Botnet-3\n['?C=N;O=D', '?C=M;O=A', '?C=S;O=A', '?C=D;O=A', '/publicDatasets/', '2013-08-12_README', '2013-08-20_capture-win15.biargus', '2013-08-20_capture-win15.clf', '2013-08-20_capture-win15.histogram', '2013-08-20_capture-win15.netflow', '2013-08-20_capture-win15.pcap', '2013-08-20_capture-win15.weblog', 'argus_bi.conf', 'dns.names.uniq2', 'ra.conf.analysis', 'ra.conf.publish', 'ralabel.conf', 'tdPTU02.exe.zip']\nFILE:https://mcfp.felk.cvut.cz/publicDatasets/CTU-Malware-Capture-Botnet-3/2013-08-12_README\nFILE:https://mcfp.felk.cvut.cz/publicDatasets/CTU-Malware-Capture-Botnet-3/2013-08-20_capture-win15.biargus\nFILE:https://mcfp.felk.cvut.cz/publicDatasets/CTU-Malware-Capture-Botnet-3/2013-08-20_capture-win15.clf\nFILE:https://mcfp.felk.cvut.cz/publicDatasets/CTU-Malware-Capture-Botnet-3/2013-08-20_capture-win15.histogram\nFILE:https://mcfp.felk.cvut.cz/publicDatasets/CTU-Malware-Capture-Botnet-3/2013-08-20_capture-win15.netflow\nFILE:https://mcfp.felk.cvut.cz/publicDatasets/CTU-Malware-Capture-Botnet-3/2013-08-20_capture-win15.pcap\nFILE:https://mcfp.felk.cvut.cz/publicDatasets/CTU-Malware-Capture-Botnet-3/2013-08-20_capture-win15.weblog\nFILE:https://mcfp.felk.cvut.cz/publicDatasets/CTU-Malware-Capture-Botnet-3/argus_bi.conf\nFILE:https://mcfp.felk.cvut.cz/publicDatasets/CTU-Malware-Capture-Botnet-3/dns.names.uniq2\nFILE:https://mcfp.felk.cvut.cz/publicDatasets/CTU-Malware-Capture-Botnet-3/ra.conf.analysis\nFILE:https://mcfp.felk.cvut.cz/publicDatasets/CTU-Malware-Capture-Botnet-3/ra.conf.publish\nFILE:https://mcfp.felk.cvut.cz/publicDatasets/CTU-Malware-Capture-Botnet-3/ralabel.conf\nFILE:https://mcfp.felk.cvut.cz/publicDatasets/CTU-Malware-Capture-Botnet-3/tdPTU02.exe.zip\n\n\n\n"
    }
   ],
   "source": [
    "if \"<title>Index of\" in content:\n",
    "    sub_url = re.findall('href=\"(CTU-Malware-Capture-Botnet.*?)\"', content)\n",
    "    # print(sub_url)\n",
    "    print(len(sub_url))\n",
    "    for i in sub_url[:3]:\n",
    "        if \"/\" in i:\n",
    "            i = i.split(\"/\")[0]\n",
    "            print(i)\n",
    "            if i != \".\" and i != \"..\":\n",
    "                # if not os.path.isdir(path + i):\n",
    "                #     os.mkdir(path + i)\n",
    "                # get_dir(url + \"/\" + i, path + i + \"/\")\n",
    "                print(\"URL    \" + url + \"/\" + i)\n",
    "                sub_content = requests.get(url + \"/\" + i, verify = False).text\n",
    "                sub_content_urls = re.findall('href=\"(.*?)\"', sub_content)\n",
    "                print(sub_content_urls)\n",
    "                for j in sub_content_urls:\n",
    "                    if \"publicDatasets\" not in j:\n",
    "                        if \"/\" in j:\n",
    "                            j = j.split(\"/\")[0]\n",
    "                            print(\"DIR:\" + url + \"/\" + i  + \"/\" + j)\n",
    "                        elif \"?C=\" not in j:\n",
    "                            print(\"FILE:\" + url + \"/\" + i  + \"/\" + j)\n",
    "                print(\"\\n\\n\")\n"
   ]
  },
  {
   "cell_type": "code",
   "execution_count": 49,
   "metadata": {},
   "outputs": [],
   "source": [
    "'href=\"(CTU-Malware-Capture-Botnet.*?)\"'"
   ]
  },
  {
   "cell_type": "code",
   "execution_count": null,
   "metadata": {},
   "outputs": [],
   "source": [
    "bb"
   ]
  },
  {
   "cell_type": "code",
   "execution_count": null,
   "metadata": {},
   "outputs": [],
   "source": []
  },
  {
   "cell_type": "code",
   "execution_count": null,
   "metadata": {},
   "outputs": [],
   "source": []
  },
  {
   "cell_type": "code",
   "execution_count": null,
   "metadata": {},
   "outputs": [],
   "source": []
  }
 ]
}